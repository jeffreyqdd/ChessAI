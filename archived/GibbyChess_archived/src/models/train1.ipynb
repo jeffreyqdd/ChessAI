{
 "cells": [
  {
   "cell_type": "code",
   "execution_count": null,
   "metadata": {},
   "outputs": [],
   "source": [
    "# This is iteration 1 of the training model and algorithm\n",
    "# We read from thousands of master games played online on lichess.org\n",
    "# We then train the network to predict the outcome of the game. 1 = white win. 0 = draw\n",
    "#   -1 = black win.\n",
    "\n",
    "# we will save the model with the lowest loss."
   ]
  },
  {
   "cell_type": "code",
   "execution_count": 1,
   "metadata": {},
   "outputs": [],
   "source": [
    "from src.utils.pgnparse import PgnParser\n",
    "from src.utils.dataset import DatasetManager\n",
    "from src.models.model import GibbyModel, ModelBuilder\n",
    "from src.config.globals import PGN_MASTER_DATA"
   ]
  },
  {
   "cell_type": "code",
   "execution_count": 2,
   "metadata": {},
   "outputs": [
    {
     "name": "stderr",
     "output_type": "stream",
     "text": [
      "Parsing PGN File: 100%|██████████| 1000/1000 [00:04<00:00, 235.32it/s]\n"
     ]
    }
   ],
   "source": [
    "# read data\n",
    "parser = PgnParser(filename=PGN_MASTER_DATA)\n",
    "result = parser.read_batch_from_file(batch_size=1_000)\n",
    "user_games = result[0]"
   ]
  },
  {
   "cell_type": "code",
   "execution_count": 3,
   "metadata": {},
   "outputs": [
    {
     "name": "stderr",
     "output_type": "stream",
     "text": [
      "Generating Dataset: 100%|██████████| 1000/1000 [00:02<00:00, 387.82it/s]\n"
     ]
    }
   ],
   "source": [
    "# generate training data\n",
    "#X, y = DatasetManager.create_dataset(games=user_games)\n",
    "X, y = DatasetManager.create_dataset_with_decay(games=user_games)"
   ]
  },
  {
   "cell_type": "code",
   "execution_count": 4,
   "metadata": {},
   "outputs": [
    {
     "name": "stderr",
     "output_type": "stream",
     "text": [
      "2021-10-29 21:54:17.472170: I tensorflow/core/platform/cpu_feature_guard.cc:142] This TensorFlow binary is optimized with oneAPI Deep Neural Network Library (oneDNN) to use the following CPU instructions in performance-critical operations:  AVX2 FMA\n",
      "To enable them in other operations, rebuild TensorFlow with the appropriate compiler flags.\n"
     ]
    }
   ],
   "source": [
    "# create the model\n",
    "model_name, model_model = ModelBuilder.build_model_1()\n",
    "\n",
    "model = GibbyModel(\"gibbyv2\", model_model)"
   ]
  },
  {
   "cell_type": "code",
   "execution_count": 5,
   "metadata": {},
   "outputs": [
    {
     "name": "stdout",
     "output_type": "stream",
     "text": [
      "2311/2311 [==============================] - 7s 3ms/step - loss: 0.0841 - accuracy: 0.0910\n",
      "Epoch 80/100\n",
      "2311/2311 [==============================] - 6s 3ms/step - loss: 0.0834 - accuracy: 0.0911\n",
      "Epoch 81/100\n",
      "2311/2311 [==============================] - 6s 3ms/step - loss: 0.0836 - accuracy: 0.0911\n",
      "Epoch 82/100\n",
      "2311/2311 [==============================] - 7s 3ms/step - loss: 0.0835 - accuracy: 0.0910\n",
      "Epoch 83/100\n",
      "2311/2311 [==============================] - 8s 3ms/step - loss: 0.0834 - accuracy: 0.0910\n",
      "Epoch 84/100\n",
      "2311/2311 [==============================] - 7s 3ms/step - loss: 0.0837 - accuracy: 0.0910\n",
      "Epoch 85/100\n",
      "2311/2311 [==============================] - 7s 3ms/step - loss: 0.0832 - accuracy: 0.0910\n",
      "Epoch 86/100\n",
      "2311/2311 [==============================] - 8s 3ms/step - loss: 0.0834 - accuracy: 0.0911\n",
      "Epoch 87/100\n",
      "2311/2311 [==============================] - 7s 3ms/step - loss: 0.0834 - accuracy: 0.0911\n",
      "Epoch 88/100\n",
      "2311/2311 [==============================] - 7s 3ms/step - loss: 0.0834 - accuracy: 0.0911\n",
      "Epoch 89/100\n",
      "2311/2311 [==============================] - 8s 3ms/step - loss: 0.0831 - accuracy: 0.0912\n",
      "Epoch 90/100\n",
      "2311/2311 [==============================] - 7s 3ms/step - loss: 0.0831 - accuracy: 0.0911\n",
      "Epoch 91/100\n",
      "2311/2311 [==============================] - 8s 3ms/step - loss: 0.0834 - accuracy: 0.0911\n",
      "Epoch 92/100\n",
      "2311/2311 [==============================] - 7s 3ms/step - loss: 0.0830 - accuracy: 0.0911\n",
      "Epoch 93/100\n",
      "2311/2311 [==============================] - 7s 3ms/step - loss: 0.0830 - accuracy: 0.0911\n",
      "Epoch 94/100\n",
      "2311/2311 [==============================] - 7s 3ms/step - loss: 0.0829 - accuracy: 0.0911\n",
      "Epoch 95/100\n",
      "2311/2311 [==============================] - 7s 3ms/step - loss: 0.0828 - accuracy: 0.0911\n",
      "Epoch 96/100\n",
      "2311/2311 [==============================] - 8s 3ms/step - loss: 0.0830 - accuracy: 0.0911\n",
      "Epoch 97/100\n",
      "2311/2311 [==============================] - 8s 3ms/step - loss: 0.0829 - accuracy: 0.0911\n",
      "Epoch 98/100\n",
      "2311/2311 [==============================] - 8s 3ms/step - loss: 0.0828 - accuracy: 0.0910\n",
      "Epoch 99/100\n",
      "2311/2311 [==============================] - 7s 3ms/step - loss: 0.0828 - accuracy: 0.0910\n",
      "Epoch 100/100\n",
      "2311/2311 [==============================] - 7s 3ms/step - loss: 0.0828 - accuracy: 0.0910\n"
     ]
    },
    {
     "data": {
      "text/plain": [
       "<keras.callbacks.History at 0x7fe7bb22c0d0>"
      ]
     },
     "execution_count": 5,
     "metadata": {},
     "output_type": "execute_result"
    }
   ],
   "source": [
    "# train the model\n",
    "model.train(X=X, y=y, epochs=100, verbose=1)"
   ]
  },
  {
   "cell_type": "code",
   "execution_count": null,
   "metadata": {},
   "outputs": [],
   "source": []
  }
 ],
 "metadata": {
  "interpreter": {
   "hash": "c90a940e6c63e65e126d46028711095f10d866fbf92e805511db4304ba7bacd8"
  },
  "kernelspec": {
   "display_name": "Python 3.7.7 64-bit ('env': venv)",
   "name": "python3"
  },
  "language_info": {
   "codemirror_mode": {
    "name": "ipython",
    "version": 3
   },
   "file_extension": ".py",
   "mimetype": "text/x-python",
   "name": "python",
   "nbconvert_exporter": "python",
   "pygments_lexer": "ipython3",
   "version": "3.7.7"
  },
  "orig_nbformat": 4
 },
 "nbformat": 4,
 "nbformat_minor": 2
}
